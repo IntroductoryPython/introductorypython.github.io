{
 "cells": [
  {
   "cell_type": "markdown",
   "metadata": {},
   "source": [
    "# CL4: Reading Code\n",
    "\n",
    "Welcome to the fourth coding lab!\n",
    "\n",
    "In this CodingLab we will be thinking and working on debugging & objects. \n",
    "\n",
    "We will also start thinking about exploring all of the Python resources and tools that are available, with an eye towards starting to think about the projects."
   ]
  },
  {
   "cell_type": "markdown",
   "metadata": {},
   "source": [
    "## Debugging Questions"
   ]
  },
  {
   "cell_type": "markdown",
   "metadata": {},
   "source": [
    "### Creating Errors\n",
    "For each of the follow Exceptions, write a small piece of code that will cause it to happen:\n",
    "- ZeroDivisionError\n",
    "- SyntaxError\n",
    "- IndentationError\n",
    "- TypeError\n",
    "- IndexError\n",
    "- KeyError\n",
    "- ValueError\n",
    "- NameError"
   ]
  },
  {
   "cell_type": "code",
   "execution_count": null,
   "metadata": {
    "collapsed": true
   },
   "outputs": [],
   "source": [
    "# YOUR CODE HERE"
   ]
  },
  {
   "cell_type": "code",
   "execution_count": null,
   "metadata": {
    "collapsed": true
   },
   "outputs": [],
   "source": []
  },
  {
   "cell_type": "markdown",
   "metadata": {},
   "source": [
    "### Fixing Errors\n",
    "\n",
    "For each of the following cells, try to debug the code to fix any errors, and get it running. "
   ]
  },
  {
   "cell_type": "code",
   "execution_count": null,
   "metadata": {
    "collapsed": true
   },
   "outputs": [],
   "source": [
    "if True\n",
    "    print('It worked')"
   ]
  },
  {
   "cell_type": "code",
   "execution_count": null,
   "metadata": {
    "collapsed": true
   },
   "outputs": [],
   "source": [
    "age_string = \"My favourite number is \" + 27"
   ]
  },
  {
   "cell_type": "code",
   "execution_count": null,
   "metadata": {
    "collapsed": true
   },
   "outputs": [],
   "source": [
    "my_list = [1, a, 24]"
   ]
  },
  {
   "cell_type": "code",
   "execution_count": null,
   "metadata": {
    "collapsed": true
   },
   "outputs": [],
   "source": [
    "my_list2 = ['1st', '2nd', '3rd', '4th', '5th']\n",
    "print('Printing the 3rd element of my list ' + my_list2(2))"
   ]
  },
  {
   "cell_type": "code",
   "execution_count": null,
   "metadata": {
    "collapsed": true
   },
   "outputs": [],
   "source": [
    "print('Three plus five equals' + str(3+5)"
   ]
  },
  {
   "cell_type": "markdown",
   "metadata": {},
   "source": [
    "## Debugging Challenges"
   ]
  },
  {
   "cell_type": "markdown",
   "metadata": {},
   "source": [
    "### Debugging A Function\n",
    "\n",
    "The following function has a series of issues with it. \n",
    "\n",
    "Work through debugging this function, fixing it up to be able to run with all the inputs below. "
   ]
  },
  {
   "cell_type": "code",
   "execution_count": null,
   "metadata": {
    "collapsed": true
   },
   "outputs": [],
   "source": [
    "def my_function(input_1, input_2):\n",
    "    \"\"\"A long function that might error.\"\"\"\n",
    "    \n",
    "    if len(input_1) > 1\n",
    "        if input_1[0] = 0:\n",
    "        answer = 0\n",
    "    \n",
    "    elif len(input_2) == 2:\n",
    "        answer = input_2[1] / input_1[0]\n",
    "        \n",
    "    elif len(input_1) == len(input_2):\n",
    "        answer = input_1[0] + input_2[0]\n",
    "        \n",
    "    print(answer)"
   ]
  },
  {
   "cell_type": "code",
   "execution_count": null,
   "metadata": {
    "collapsed": true
   },
   "outputs": [],
   "source": [
    "my_function([0, 1], [0])"
   ]
  },
  {
   "cell_type": "code",
   "execution_count": null,
   "metadata": {
    "collapsed": true
   },
   "outputs": [],
   "source": [
    "my_function([0], [0, 1])"
   ]
  },
  {
   "cell_type": "code",
   "execution_count": null,
   "metadata": {
    "collapsed": true
   },
   "outputs": [],
   "source": [
    "my_function([1], [1])"
   ]
  },
  {
   "cell_type": "code",
   "execution_count": null,
   "metadata": {
    "collapsed": true
   },
   "outputs": [],
   "source": [
    "my_function([1], ['1'])"
   ]
  },
  {
   "cell_type": "markdown",
   "metadata": {},
   "source": [
    "## Object Explorations"
   ]
  },
  {
   "cell_type": "code",
   "execution_count": null,
   "metadata": {
    "collapsed": true
   },
   "outputs": [],
   "source": [
    "# Import \n",
    "from datetime import date, time, datetime, timedelta"
   ]
  },
  {
   "cell_type": "markdown",
   "metadata": {},
   "source": [
    "## Questions\n",
    "\n",
    "- a) What day of the week was January 2nd, 1994\n",
    "- b) What is the latest date the datetime object can store? What is the earliest?\n",
    "    - Hint: explore using `dir` to see if you can find these values.\n",
    "- c) What type of error is raised if you try to create a datetime object that is the 32nd day of any month?\n",
    "- d) How many Mondays where there in February, 1916? "
   ]
  },
  {
   "cell_type": "code",
   "execution_count": null,
   "metadata": {
    "collapsed": true
   },
   "outputs": [],
   "source": [
    "# YOUR CODE HERE"
   ]
  },
  {
   "cell_type": "markdown",
   "metadata": {},
   "source": [
    "** Now see if you can turn your answer to part d into a function.**\n",
    "\n",
    "This function should be general such that it can calculate the number of times any day of the week occurs in a given month and year. \n",
    "\n",
    "To do this your function should take `year`, `month` and `day_of_the_week` as arguments."
   ]
  },
  {
   "cell_type": "code",
   "execution_count": null,
   "metadata": {
    "collapsed": true
   },
   "outputs": [],
   "source": [
    "# YOUR CODE HERE\n"
   ]
  },
  {
   "cell_type": "code",
   "execution_count": null,
   "metadata": {
    "collapsed": true
   },
   "outputs": [],
   "source": [
    "# Check if your function works\n",
    "count_days(1854, 3, 4)"
   ]
  },
  {
   "cell_type": "markdown",
   "metadata": {},
   "source": [
    "## Datetime Manipulations\n",
    "\n",
    "Using `datetime` objects there are several operations and methods we can use that are useful, some of these are shown as examples below."
   ]
  },
  {
   "cell_type": "code",
   "execution_count": null,
   "metadata": {
    "collapsed": true
   },
   "outputs": [],
   "source": [
    "# Get current times\n",
    "now = datetime.now()"
   ]
  },
  {
   "cell_type": "code",
   "execution_count": null,
   "metadata": {
    "collapsed": true
   },
   "outputs": [],
   "source": [
    "# Create a time delta object, to represent a \n",
    "delta = timedelta(days=1, minutes=7, seconds=37)"
   ]
  },
  {
   "cell_type": "code",
   "execution_count": null,
   "metadata": {
    "collapsed": true
   },
   "outputs": [],
   "source": [
    "# Add a time\n",
    "later = now + delta"
   ]
  },
  {
   "cell_type": "code",
   "execution_count": null,
   "metadata": {
    "collapsed": true
   },
   "outputs": [],
   "source": [
    "# Check out what time it will be after \n",
    "#   Note - format is 'YEAR-MONTH-DAY'T'HOUR:MINUTE:SECOND:MICROSECOND'\n",
    "later.isoformat()"
   ]
  },
  {
   "cell_type": "markdown",
   "metadata": {},
   "source": [
    "### DateTime Manipulation Questions"
   ]
  },
  {
   "cell_type": "markdown",
   "metadata": {},
   "source": [
    "- a) What day of the week it will be 4675 days from now?\n",
    "- b) Write a boolean if/else stement that checks whether `date_1` is earlier or later than `date_2`, and prints out 'earlier' or 'later' appropriately."
   ]
  },
  {
   "cell_type": "code",
   "execution_count": null,
   "metadata": {
    "collapsed": true
   },
   "outputs": [],
   "source": [
    "# YOUR CODE HERE"
   ]
  },
  {
   "cell_type": "markdown",
   "metadata": {},
   "source": [
    "### DateTime Manipulation Exploration\n",
    "\n",
    "If you start from Jan 1st, 1757, and repeatedly add 8 days, until you hit 1800, how many times will it be a Monday?"
   ]
  },
  {
   "cell_type": "code",
   "execution_count": null,
   "metadata": {
    "collapsed": true
   },
   "outputs": [],
   "source": [
    "# YOUR CODE HERE\n"
   ]
  },
  {
   "cell_type": "markdown",
   "metadata": {},
   "source": [
    "#### Make a function\n",
    "\n",
    "Once you have answered this question, convert your code into a generalized function. \n",
    "\n",
    "This function, call it `count_weekdays` should take:\n",
    "- `start_date`: a start date (a datetime object)\n",
    "- `add_days`: a number of days to add (an int)\n",
    "- `stop_year`: a stop year (an int)\n",
    "- `weekday`: a day to count, represented in isoweekday format (an int)\n",
    "\n",
    "It should return the number of `weekday`'s that occur from the start date, until stop year, when adding `add_days` days."
   ]
  },
  {
   "cell_type": "code",
   "execution_count": null,
   "metadata": {
    "collapsed": true
   },
   "outputs": [],
   "source": [
    "# YOUR CODE HERE\n"
   ]
  },
  {
   "cell_type": "code",
   "execution_count": null,
   "metadata": {
    "collapsed": true
   },
   "outputs": [],
   "source": [
    "# Check that the function returns the expected result for an example case\n",
    "assert count_weekdays(datetime(1322, 6, 17), 3, 1324, 5) == 27"
   ]
  },
  {
   "cell_type": "markdown",
   "metadata": {},
   "source": [
    "## Exploring Code"
   ]
  },
  {
   "cell_type": "markdown",
   "metadata": {},
   "source": [
    "One of the great things about Python is how many tools, utilities and examples there are out there.\n",
    "\n",
    "Let's start exploring what is available:\n",
    "\n",
    "GitHub is a website that people use to save and present code. Below we have listed some some notebooks that are hosted on GitHub showing some particular projects, as well as a link to Github in general, and a curated list of interesting Jupyter notebooks. \n",
    "\n",
    "Take time to look at at least one of the notebooks mentioned below. See if you can get, to a first approximation, a sense of what the notebook is doing, and how the Python code does it. \n",
    "\n",
    "Also go and search through Github and/or the list of notebooks, to see if you can find some code projects that interest you. See if you can get any ideas for things that you could do in your project for this class. \n",
    "\n",
    "Don't worry if you don't understand all the code you see - this is just a start, to see what is out there, and you will understand more and more of it as we go along. \n",
    "\n",
    "- https://anaconda.org/jbednar/census/notebook - Demographic data plotted out on maps of the US, showing differences in racial segregation/integration in different cities.\n",
    "- https://github.com/jupyter/jupyter/wiki/A-gallery-of-interesting-Jupyter-Notebooks#linguistics-and-text-mining - Mining text to learn trends in bodies of text.\n",
    "- https://anaconda.org/jbednar/nyc_taxi/notebook - NYC taxi data plotted out on cities of NYC\n",
    "- https://www.fullstackpython.com/ - for advanced python user, next level guideline"
   ]
  },
  {
   "cell_type": "markdown",
   "metadata": {},
   "source": [
    "<div class=\"alert alert-info\">\n",
    "Go and explore [Github](https://github.com), and search for some Python projects. And/or check out this list of interesting [Jupyter notebooks](https://github.com/jupyter/jupyter/wiki/A-gallery-of-interesting-Jupyter-Notebooks). \n",
    "</div>"
   ]
  }
 ],
 "metadata": {
  "kernelspec": {
   "display_name": "Python 3",
   "language": "python",
   "name": "python3"
  },
  "language_info": {
   "codemirror_mode": {
    "name": "ipython",
    "version": 3
   },
   "file_extension": ".py",
   "mimetype": "text/x-python",
   "name": "python",
   "nbconvert_exporter": "python",
   "pygments_lexer": "ipython3",
   "version": "3.8.10"
  }
 },
 "nbformat": 4,
 "nbformat_minor": 2
}
